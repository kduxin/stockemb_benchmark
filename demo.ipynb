{
 "cells": [
  {
   "cell_type": "code",
   "execution_count": 31,
   "metadata": {},
   "outputs": [],
   "source": [
    "import numpy as np\n",
    "import pandas as pd\n",
    "import matplotlib.pyplot as plt\n",
    "%matplotlib inline\n",
    "import stockemb_benchmark as stemb"
   ]
  },
  {
   "cell_type": "markdown",
   "metadata": {},
   "source": [
    "# Load price dataset"
   ]
  },
  {
   "cell_type": "code",
   "execution_count": 32,
   "metadata": {},
   "outputs": [
    {
     "name": "stderr",
     "output_type": "stream",
     "text": [
      "/home/duxin/.pyenv/versions/3.6.5/envs/finnews/lib/python3.6/site-packages/ipykernel_launcher.py:24: RuntimeWarning: divide by zero encountered in log\n"
     ]
    },
    {
     "data": {
      "text/html": [
       "<div>\n",
       "<style scoped>\n",
       "    .dataframe tbody tr th:only-of-type {\n",
       "        vertical-align: middle;\n",
       "    }\n",
       "\n",
       "    .dataframe tbody tr th {\n",
       "        vertical-align: top;\n",
       "    }\n",
       "\n",
       "    .dataframe thead th {\n",
       "        text-align: right;\n",
       "    }\n",
       "</style>\n",
       "<table border=\"1\" class=\"dataframe\">\n",
       "  <thead>\n",
       "    <tr style=\"text-align: right;\">\n",
       "      <th></th>\n",
       "      <th>AAPL</th>\n",
       "      <th>GOOG</th>\n",
       "      <th>GOOGL</th>\n",
       "      <th>C</th>\n",
       "      <th>BA</th>\n",
       "      <th>MS</th>\n",
       "      <th>MSFT</th>\n",
       "      <th>GS</th>\n",
       "      <th>BAC</th>\n",
       "      <th>NDAQ</th>\n",
       "      <th>...</th>\n",
       "      <th>K</th>\n",
       "      <th>AON</th>\n",
       "      <th>AGN</th>\n",
       "      <th>JPM</th>\n",
       "      <th>WYNN</th>\n",
       "      <th>EXPE</th>\n",
       "      <th>PLD</th>\n",
       "      <th>L</th>\n",
       "      <th>JWN</th>\n",
       "      <th>ACN</th>\n",
       "    </tr>\n",
       "    <tr>\n",
       "      <th>Date</th>\n",
       "      <th></th>\n",
       "      <th></th>\n",
       "      <th></th>\n",
       "      <th></th>\n",
       "      <th></th>\n",
       "      <th></th>\n",
       "      <th></th>\n",
       "      <th></th>\n",
       "      <th></th>\n",
       "      <th></th>\n",
       "      <th></th>\n",
       "      <th></th>\n",
       "      <th></th>\n",
       "      <th></th>\n",
       "      <th></th>\n",
       "      <th></th>\n",
       "      <th></th>\n",
       "      <th></th>\n",
       "      <th></th>\n",
       "      <th></th>\n",
       "      <th></th>\n",
       "    </tr>\n",
       "  </thead>\n",
       "  <tbody>\n",
       "    <tr>\n",
       "      <th>2006-01-03</th>\n",
       "      <td>0.039012</td>\n",
       "      <td>0.047933</td>\n",
       "      <td>0.047934</td>\n",
       "      <td>0.015539</td>\n",
       "      <td>0.002843</td>\n",
       "      <td>0.027294</td>\n",
       "      <td>0.026044</td>\n",
       "      <td>0.009042</td>\n",
       "      <td>0.019952</td>\n",
       "      <td>0.030237</td>\n",
       "      <td>...</td>\n",
       "      <td>0.011502</td>\n",
       "      <td>0.035523</td>\n",
       "      <td>0.013140</td>\n",
       "      <td>0.012519</td>\n",
       "      <td>-0.016545</td>\n",
       "      <td>0.001668</td>\n",
       "      <td>0.011727</td>\n",
       "      <td>0.019627</td>\n",
       "      <td>0.008520</td>\n",
       "      <td>0.014784</td>\n",
       "    </tr>\n",
       "    <tr>\n",
       "      <th>2006-01-04</th>\n",
       "      <td>0.002939</td>\n",
       "      <td>0.022739</td>\n",
       "      <td>0.022739</td>\n",
       "      <td>-0.018635</td>\n",
       "      <td>0.010310</td>\n",
       "      <td>0.000686</td>\n",
       "      <td>0.004832</td>\n",
       "      <td>-0.013909</td>\n",
       "      <td>-0.010677</td>\n",
       "      <td>0.018580</td>\n",
       "      <td>...</td>\n",
       "      <td>0.008655</td>\n",
       "      <td>0.003484</td>\n",
       "      <td>-0.000911</td>\n",
       "      <td>-0.005788</td>\n",
       "      <td>-0.001855</td>\n",
       "      <td>0.010363</td>\n",
       "      <td>-0.003020</td>\n",
       "      <td>0.008544</td>\n",
       "      <td>-0.001327</td>\n",
       "      <td>0.005446</td>\n",
       "    </tr>\n",
       "    <tr>\n",
       "      <th>2006-01-05</th>\n",
       "      <td>-0.007901</td>\n",
       "      <td>0.013386</td>\n",
       "      <td>0.013386</td>\n",
       "      <td>0.004949</td>\n",
       "      <td>-0.011873</td>\n",
       "      <td>0.002738</td>\n",
       "      <td>0.000741</td>\n",
       "      <td>-0.000393</td>\n",
       "      <td>0.001288</td>\n",
       "      <td>0.000271</td>\n",
       "      <td>...</td>\n",
       "      <td>0.003622</td>\n",
       "      <td>-0.007519</td>\n",
       "      <td>0.003337</td>\n",
       "      <td>0.003024</td>\n",
       "      <td>-0.005960</td>\n",
       "      <td>-0.010363</td>\n",
       "      <td>0.000000</td>\n",
       "      <td>0.003887</td>\n",
       "      <td>0.051731</td>\n",
       "      <td>0.007440</td>\n",
       "    </tr>\n",
       "    <tr>\n",
       "      <th>2006-01-06</th>\n",
       "      <td>0.025486</td>\n",
       "      <td>0.031456</td>\n",
       "      <td>0.031456</td>\n",
       "      <td>0.000000</td>\n",
       "      <td>-0.014033</td>\n",
       "      <td>0.001025</td>\n",
       "      <td>-0.002968</td>\n",
       "      <td>0.014069</td>\n",
       "      <td>-0.001502</td>\n",
       "      <td>0.075306</td>\n",
       "      <td>...</td>\n",
       "      <td>0.003158</td>\n",
       "      <td>-0.004051</td>\n",
       "      <td>0.012041</td>\n",
       "      <td>0.007021</td>\n",
       "      <td>0.009482</td>\n",
       "      <td>0.000417</td>\n",
       "      <td>0.009432</td>\n",
       "      <td>0.008641</td>\n",
       "      <td>-0.004295</td>\n",
       "      <td>0.048341</td>\n",
       "    </tr>\n",
       "    <tr>\n",
       "      <th>2006-01-09</th>\n",
       "      <td>-0.003282</td>\n",
       "      <td>0.002659</td>\n",
       "      <td>0.002659</td>\n",
       "      <td>-0.004742</td>\n",
       "      <td>-0.008398</td>\n",
       "      <td>0.010530</td>\n",
       "      <td>-0.001860</td>\n",
       "      <td>0.011959</td>\n",
       "      <td>0.000644</td>\n",
       "      <td>-0.010344</td>\n",
       "      <td>...</td>\n",
       "      <td>0.004719</td>\n",
       "      <td>0.009695</td>\n",
       "      <td>0.003882</td>\n",
       "      <td>0.016112</td>\n",
       "      <td>0.046108</td>\n",
       "      <td>0.016932</td>\n",
       "      <td>0.001597</td>\n",
       "      <td>-0.001215</td>\n",
       "      <td>0.015076</td>\n",
       "      <td>-0.002893</td>\n",
       "    </tr>\n",
       "    <tr>\n",
       "      <th>...</th>\n",
       "      <td>...</td>\n",
       "      <td>...</td>\n",
       "      <td>...</td>\n",
       "      <td>...</td>\n",
       "      <td>...</td>\n",
       "      <td>...</td>\n",
       "      <td>...</td>\n",
       "      <td>...</td>\n",
       "      <td>...</td>\n",
       "      <td>...</td>\n",
       "      <td>...</td>\n",
       "      <td>...</td>\n",
       "      <td>...</td>\n",
       "      <td>...</td>\n",
       "      <td>...</td>\n",
       "      <td>...</td>\n",
       "      <td>...</td>\n",
       "      <td>...</td>\n",
       "      <td>...</td>\n",
       "      <td>...</td>\n",
       "      <td>...</td>\n",
       "    </tr>\n",
       "    <tr>\n",
       "      <th>2013-12-24</th>\n",
       "      <td>-0.004254</td>\n",
       "      <td>-0.002928</td>\n",
       "      <td>-0.002928</td>\n",
       "      <td>0.000381</td>\n",
       "      <td>0.003148</td>\n",
       "      <td>-0.003219</td>\n",
       "      <td>0.012483</td>\n",
       "      <td>-0.001758</td>\n",
       "      <td>0.000637</td>\n",
       "      <td>0.003766</td>\n",
       "      <td>...</td>\n",
       "      <td>-0.001492</td>\n",
       "      <td>0.011305</td>\n",
       "      <td>-0.006408</td>\n",
       "      <td>0.000172</td>\n",
       "      <td>0.021903</td>\n",
       "      <td>-0.002624</td>\n",
       "      <td>-0.000541</td>\n",
       "      <td>0.004803</td>\n",
       "      <td>0.000975</td>\n",
       "      <td>-0.002947</td>\n",
       "    </tr>\n",
       "    <tr>\n",
       "      <th>2013-12-26</th>\n",
       "      <td>-0.006663</td>\n",
       "      <td>0.005042</td>\n",
       "      <td>0.005042</td>\n",
       "      <td>-0.001527</td>\n",
       "      <td>0.010469</td>\n",
       "      <td>0.002898</td>\n",
       "      <td>0.009661</td>\n",
       "      <td>0.001645</td>\n",
       "      <td>-0.003190</td>\n",
       "      <td>0.001752</td>\n",
       "      <td>...</td>\n",
       "      <td>0.007770</td>\n",
       "      <td>-0.001796</td>\n",
       "      <td>0.004417</td>\n",
       "      <td>-0.000859</td>\n",
       "      <td>0.009414</td>\n",
       "      <td>0.007707</td>\n",
       "      <td>0.004319</td>\n",
       "      <td>0.000625</td>\n",
       "      <td>0.000162</td>\n",
       "      <td>0.010278</td>\n",
       "    </tr>\n",
       "    <tr>\n",
       "      <th>2013-12-27</th>\n",
       "      <td>-0.006780</td>\n",
       "      <td>0.000841</td>\n",
       "      <td>0.000841</td>\n",
       "      <td>-0.001721</td>\n",
       "      <td>-0.009958</td>\n",
       "      <td>-0.001287</td>\n",
       "      <td>-0.004014</td>\n",
       "      <td>-0.000567</td>\n",
       "      <td>0.001277</td>\n",
       "      <td>-0.001502</td>\n",
       "      <td>...</td>\n",
       "      <td>0.004273</td>\n",
       "      <td>-0.000719</td>\n",
       "      <td>-0.002963</td>\n",
       "      <td>-0.001031</td>\n",
       "      <td>0.001098</td>\n",
       "      <td>-0.003919</td>\n",
       "      <td>0.001615</td>\n",
       "      <td>-0.007524</td>\n",
       "      <td>-0.003089</td>\n",
       "      <td>0.004373</td>\n",
       "    </tr>\n",
       "    <tr>\n",
       "      <th>2013-12-30</th>\n",
       "      <td>-0.009994</td>\n",
       "      <td>-0.008026</td>\n",
       "      <td>-0.008026</td>\n",
       "      <td>-0.006527</td>\n",
       "      <td>-0.007184</td>\n",
       "      <td>-0.006784</td>\n",
       "      <td>0.000000</td>\n",
       "      <td>-0.003522</td>\n",
       "      <td>-0.008330</td>\n",
       "      <td>-0.002257</td>\n",
       "      <td>...</td>\n",
       "      <td>0.004581</td>\n",
       "      <td>-0.001920</td>\n",
       "      <td>0.003023</td>\n",
       "      <td>-0.003274</td>\n",
       "      <td>0.010610</td>\n",
       "      <td>0.001162</td>\n",
       "      <td>0.000000</td>\n",
       "      <td>0.006065</td>\n",
       "      <td>0.006976</td>\n",
       "      <td>-0.005469</td>\n",
       "    </tr>\n",
       "    <tr>\n",
       "      <th>2013-12-31</th>\n",
       "      <td>0.011654</td>\n",
       "      <td>0.010089</td>\n",
       "      <td>0.010089</td>\n",
       "      <td>0.003653</td>\n",
       "      <td>0.004185</td>\n",
       "      <td>0.016396</td>\n",
       "      <td>0.003213</td>\n",
       "      <td>0.008669</td>\n",
       "      <td>0.001929</td>\n",
       "      <td>-0.000753</td>\n",
       "      <td>...</td>\n",
       "      <td>-0.003106</td>\n",
       "      <td>0.007658</td>\n",
       "      <td>0.014147</td>\n",
       "      <td>0.009104</td>\n",
       "      <td>0.004748</td>\n",
       "      <td>0.011842</td>\n",
       "      <td>-0.006474</td>\n",
       "      <td>0.005821</td>\n",
       "      <td>-0.000809</td>\n",
       "      <td>0.001948</td>\n",
       "    </tr>\n",
       "  </tbody>\n",
       "</table>\n",
       "<p>2013 rows × 94 columns</p>\n",
       "</div>"
      ],
      "text/plain": [
       "                AAPL      GOOG     GOOGL         C        BA        MS  \\\n",
       "Date                                                                     \n",
       "2006-01-03  0.039012  0.047933  0.047934  0.015539  0.002843  0.027294   \n",
       "2006-01-04  0.002939  0.022739  0.022739 -0.018635  0.010310  0.000686   \n",
       "2006-01-05 -0.007901  0.013386  0.013386  0.004949 -0.011873  0.002738   \n",
       "2006-01-06  0.025486  0.031456  0.031456  0.000000 -0.014033  0.001025   \n",
       "2006-01-09 -0.003282  0.002659  0.002659 -0.004742 -0.008398  0.010530   \n",
       "...              ...       ...       ...       ...       ...       ...   \n",
       "2013-12-24 -0.004254 -0.002928 -0.002928  0.000381  0.003148 -0.003219   \n",
       "2013-12-26 -0.006663  0.005042  0.005042 -0.001527  0.010469  0.002898   \n",
       "2013-12-27 -0.006780  0.000841  0.000841 -0.001721 -0.009958 -0.001287   \n",
       "2013-12-30 -0.009994 -0.008026 -0.008026 -0.006527 -0.007184 -0.006784   \n",
       "2013-12-31  0.011654  0.010089  0.010089  0.003653  0.004185  0.016396   \n",
       "\n",
       "                MSFT        GS       BAC      NDAQ  ...         K       AON  \\\n",
       "Date                                                ...                       \n",
       "2006-01-03  0.026044  0.009042  0.019952  0.030237  ...  0.011502  0.035523   \n",
       "2006-01-04  0.004832 -0.013909 -0.010677  0.018580  ...  0.008655  0.003484   \n",
       "2006-01-05  0.000741 -0.000393  0.001288  0.000271  ...  0.003622 -0.007519   \n",
       "2006-01-06 -0.002968  0.014069 -0.001502  0.075306  ...  0.003158 -0.004051   \n",
       "2006-01-09 -0.001860  0.011959  0.000644 -0.010344  ...  0.004719  0.009695   \n",
       "...              ...       ...       ...       ...  ...       ...       ...   \n",
       "2013-12-24  0.012483 -0.001758  0.000637  0.003766  ... -0.001492  0.011305   \n",
       "2013-12-26  0.009661  0.001645 -0.003190  0.001752  ...  0.007770 -0.001796   \n",
       "2013-12-27 -0.004014 -0.000567  0.001277 -0.001502  ...  0.004273 -0.000719   \n",
       "2013-12-30  0.000000 -0.003522 -0.008330 -0.002257  ...  0.004581 -0.001920   \n",
       "2013-12-31  0.003213  0.008669  0.001929 -0.000753  ... -0.003106  0.007658   \n",
       "\n",
       "                 AGN       JPM      WYNN      EXPE       PLD         L  \\\n",
       "Date                                                                     \n",
       "2006-01-03  0.013140  0.012519 -0.016545  0.001668  0.011727  0.019627   \n",
       "2006-01-04 -0.000911 -0.005788 -0.001855  0.010363 -0.003020  0.008544   \n",
       "2006-01-05  0.003337  0.003024 -0.005960 -0.010363  0.000000  0.003887   \n",
       "2006-01-06  0.012041  0.007021  0.009482  0.000417  0.009432  0.008641   \n",
       "2006-01-09  0.003882  0.016112  0.046108  0.016932  0.001597 -0.001215   \n",
       "...              ...       ...       ...       ...       ...       ...   \n",
       "2013-12-24 -0.006408  0.000172  0.021903 -0.002624 -0.000541  0.004803   \n",
       "2013-12-26  0.004417 -0.000859  0.009414  0.007707  0.004319  0.000625   \n",
       "2013-12-27 -0.002963 -0.001031  0.001098 -0.003919  0.001615 -0.007524   \n",
       "2013-12-30  0.003023 -0.003274  0.010610  0.001162  0.000000  0.006065   \n",
       "2013-12-31  0.014147  0.009104  0.004748  0.011842 -0.006474  0.005821   \n",
       "\n",
       "                 JWN       ACN  \n",
       "Date                            \n",
       "2006-01-03  0.008520  0.014784  \n",
       "2006-01-04 -0.001327  0.005446  \n",
       "2006-01-05  0.051731  0.007440  \n",
       "2006-01-06 -0.004295  0.048341  \n",
       "2006-01-09  0.015076 -0.002893  \n",
       "...              ...       ...  \n",
       "2013-12-24  0.000975 -0.002947  \n",
       "2013-12-26  0.000162  0.010278  \n",
       "2013-12-27 -0.003089  0.004373  \n",
       "2013-12-30  0.006976 -0.005469  \n",
       "2013-12-31 -0.000809  0.001948  \n",
       "\n",
       "[2013 rows x 94 columns]"
      ]
     },
     "execution_count": 32,
     "metadata": {},
     "output_type": "execute_result"
    }
   ],
   "source": [
    "stocks = ['AAPL', 'GOOG', 'GOOGL', 'C', 'BA', 'MS', 'MSFT', 'GS', 'BAC', 'NDAQ',\n",
    "       'T', 'WFC', 'AMZN', 'MCO', 'BLK', 'CVX', 'INTC', 'PFE', 'ORCL', 'HPQ',\n",
    "       'SBUX', 'CSCO', 'NFLX', 'MRK', 'CME', 'BBY', 'MET', 'EBAY', 'CMCSA',\n",
    "       'MA', 'CAT', 'FDX', 'QCOM', 'NKE', 'MCD', 'HD', 'DISCA', 'DISCK', 'PEP',\n",
    "       'STT', 'AMGN', 'HAL', 'ALL', 'MMM', 'AXP', 'COP', 'MDT', 'CCL', 'XOM',\n",
    "       'RTN', 'TXN', 'EA', 'USB', 'DE', 'UTX', 'ADBE', 'HES', 'M', 'XRX',\n",
    "       'BSX', 'APA', 'BIIB', 'ETFC', 'EXC', 'GE', 'LEN', 'WHR', 'MO', 'KMI',\n",
    "       'TIF', 'AVGO', 'GIS', 'SLB', 'ILMN', 'ETN', 'ETR', 'AES', 'NVDA', 'JNJ',\n",
    "       'LMT', 'AFL', 'AMAT', 'DUK', 'COTY', 'HUM', 'GD', 'HAS', 'IVZ', 'DISH',\n",
    "       'K', 'AON', 'AGN', 'JPM', 'WYNN', 'EXPE', 'PLD', 'L', 'JWN', 'ACN',\n",
    "       'HCA']\n",
    "tstart, tend = '2006', '2013'\n",
    "\n",
    "# read price data\n",
    "price = pd.read_csv('data/snp500_individuals_adjclose.csv', index_col=0, parse_dates=True)\n",
    "price = price[stocks]\n",
    "# price = price[tstart:tend].dropna(axis=1)\n",
    "# stocks = price.columns\n",
    "snp500 = pd.read_csv('data/snp500.csv', index_col=0, parse_dates=True)['Adj Close']\n",
    "\n",
    "# compute log-return history for the stocks\n",
    "snp500_ret = np.log(snp500).diff().iloc[1:]\n",
    "snp500_ret = snp500_ret.loc[tstart:tend]\n",
    "rets = np.log(price).diff().iloc[1:]              # here I used log-return, but it is OK to use (price_{t+1} / price_t) - 1\n",
    "rets = rets.loc[tstart:tend]\n",
    "rets = rets.dropna(axis=1)\n",
    "rets"
   ]
  },
  {
   "cell_type": "markdown",
   "metadata": {},
   "source": [
    "# Benchmark the classical Mean Variance Minimization model"
   ]
  },
  {
   "cell_type": "code",
   "execution_count": 33,
   "metadata": {},
   "outputs": [],
   "source": [
    "mu_factory = stemb.Average()\n",
    "sigma_factory = stemb.Covariance()\n",
    "portfolio_opt = stemb.OptRisk(target_return=0.20 / 252)      # target *daily* return\n",
    "\n",
    "sim = stemb.Simulator(mu_factory=mu_factory, sigma_factory=sigma_factory, opt=portfolio_opt)"
   ]
  },
  {
   "cell_type": "code",
   "execution_count": 34,
   "metadata": {},
   "outputs": [
    {
     "data": {
      "text/plain": [
       "<Portfolio(NFLX=0.02602, BIIB=0.02313, AGN=0.02082, WYNN=0.02074, ILMN=0.01864, SBUX=0.01861, M=0.01787, CMCSA=0.01776, HD=0.01708, LEN=0.01703, DISH=0.01686, MCO=0.01683, AMZN=0.01629, DISCA=0.01623, NKE=0.01617, AAPL=0.01546, BA=0.01544, ETN=0.01542, MO=0.01418, HUM=0.014, AXP=0.01362, LMT=0.01351, EBAY=0.01339, TIF=0.01332, AON=0.0133, COP=0.01271, ACN=0.0125, AMGN=0.01234, WHR=0.01229, GE=0.01227, NDAQ=0.01197, RTN=0.01172, ALL=0.01165, PFE=0.01144, HAS=0.01128, USB=0.01117, EXPE=0.01116, MMM=0.01083, CVX=0.01069, TXN=0.01067, DE=0.01053, GOOG=0.01041, GOOGL=0.01041, WFC=0.01038, UTX=0.01035, MCD=0.0102, JWN=0.01018, STT=0.01014, AFL=0.01005, FDX=0.01004, HAL=0.00993, CAT=0.00987, QCOM=0.00979, IVZ=0.0095, MET=0.00931, XOM=0.00928, PLD=0.00928, JNJ=0.00927, GIS=0.0092, MRK=0.00914, ADBE=0.0091, ORCL=0.00903, T=0.00879, PEP=0.00867, GD=0.00865, C=0.00856, BLK=0.00829, JPM=0.00825, DUK=0.00824, XRX=0.00793, INTC=0.00786, SLB=0.00781, MDT=0.00771, CCL=0.00739, AMAT=0.00733, HES=0.00732, CME=0.00709, MSFT=0.00704, L=0.00701, BSX=0.00673, K=0.00659, EA=0.0063, BBY=0.00461, AES=0.00446, GS=0.00441, ETFC=0.0044, MS=0.00424, BAC=0.00367, CSCO=0.00323, ETR=0.0026, NVDA=0.00167, APA=0.00137)>"
      ]
     },
     "execution_count": 34,
     "metadata": {},
     "output_type": "execute_result"
    }
   ],
   "source": [
    "# we backtest the portfolio from year 2010\n",
    "portfolio = sim.simulate(rets.loc['2010':], stockembs=None)\n",
    "portfolio"
   ]
  },
  {
   "cell_type": "code",
   "execution_count": 35,
   "metadata": {},
   "outputs": [
    {
     "name": "stdout",
     "output_type": "stream",
     "text": [
      "Calculating best minimal value for power law fit\n",
      "Gain                               = 79.8%\n",
      "Sharpe ratio (risk-free rate=0%)   = 107%\n",
      "Information ratio (against snp500) = 206%\n",
      "Pareto's alpha (at negative tail)  = 2.65\n"
     ]
    }
   ],
   "source": [
    "gain = stemb.Gain()(portfolio)\n",
    "sharpe_ratio = stemb.SharpeRatio()(portfolio, riskfree_rate=0.00)\n",
    "information_ratio = stemb.InformationRatio()(portfolio, reference=snp500_ret)\n",
    "pareto_alpha = stemb.ParetoAlpha()(portfolio, whichtail='negative')\n",
    "print(f'Gain                               = {gain*100:.3g}%')\n",
    "print(f'Sharpe ratio (risk-free rate=0%)   = {sharpe_ratio*100:.3g}%')\n",
    "print(f'Information ratio (against snp500) = {information_ratio*100:.3g}%')\n",
    "print(f\"Pareto's alpha (at negative tail)  = {pareto_alpha:.3g}\")"
   ]
  },
  {
   "cell_type": "code",
   "execution_count": 36,
   "metadata": {},
   "outputs": [
    {
     "data": {
      "text/plain": [
       "<matplotlib.legend.Legend at 0x7fac132b5780>"
      ]
     },
     "execution_count": 36,
     "metadata": {},
     "output_type": "execute_result"
    },
    {
     "data": {
      "image/png": "[encoded data removed]",
      "text/plain": [
       "<Figure size 432x288 with 1 Axes>"
      ]
     },
     "metadata": {
      "needs_background": "light"
     },
     "output_type": "display_data"
    }
   ],
   "source": [
    "plt.plot(portfolio.returns.cumsum(), label='mean variance minimization')\n",
    "plt.plot(snp500_ret.loc[portfolio.returns.index].cumsum(), label='snp500')\n",
    "plt.legend()"
   ]
  },
  {
   "cell_type": "markdown",
   "metadata": {},
   "source": [
    "# Benchmark the stock embedding method"
   ]
  },
  {
   "cell_type": "code",
   "execution_count": 37,
   "metadata": {},
   "outputs": [],
   "source": [
    "mu_factory = stemb.Average()\n",
    "# sigma_factory = stemb.Covariance()\n",
    "sigma_factory = stemb.StockembCosine()\n",
    "portfolio_opt = stemb.OptRisk(target_return=0.30 / 252)      # target *daily* return\n",
    "\n",
    "sim = stemb.Simulator(mu_factory=mu_factory, sigma_factory=sigma_factory, opt=portfolio_opt)"
   ]
  },
  {
   "cell_type": "code",
   "execution_count": 38,
   "metadata": {},
   "outputs": [],
   "source": [
    "# read stock embedding that is pretrained using data before 2009/12/31,\n",
    "# such that it can be used for construction portfolios since 2010\n",
    "stockembs = pd.read_csv('data/stockemb.20091231.csv')\n",
    "stockembs = stockembs[stocks]"
   ]
  },
  {
   "cell_type": "code",
   "execution_count": 39,
   "metadata": {},
   "outputs": [
    {
     "data": {
      "text/plain": [
       "<Portfolio(NFLX=0.22544, MO=0.12666, AAPL=0.11616, M=0.0934, EXPE=0.07312, AGN=0.07198, BIIB=0.07171, DISCA=0.06072, HAL=0.05235, ACN=0.04141, HES=0.0356, DUK=0.03147)>"
      ]
     },
     "execution_count": 39,
     "metadata": {},
     "output_type": "execute_result"
    }
   ],
   "source": [
    "portfolio = sim.simulate(rets.loc['2010':], stockembs[rets.columns])\n",
    "portfolio"
   ]
  },
  {
   "cell_type": "code",
   "execution_count": 40,
   "metadata": {},
   "outputs": [
    {
     "name": "stdout",
     "output_type": "stream",
     "text": [
      "Calculating best minimal value for power law fit\n",
      "Gain                               = 120%\n",
      "Sharpe ratio (risk-free rate=0%)   = 135%\n",
      "Information ratio (against snp500) = 112%\n",
      "Pareto's alpha (at negative tail)  = 2.95\n"
     ]
    }
   ],
   "source": [
    "gain = stemb.Gain()(portfolio)\n",
    "sharpe_ratio = stemb.SharpeRatio()(portfolio, riskfree_rate=0.00)\n",
    "information_ratio = stemb.InformationRatio()(portfolio, reference=snp500_ret)\n",
    "pareto_alpha = stemb.ParetoAlpha()(portfolio, whichtail='negative')\n",
    "print(f'Gain                               = {gain*100:.3g}%')\n",
    "print(f'Sharpe ratio (risk-free rate=0%)   = {sharpe_ratio*100:.3g}%')\n",
    "print(f'Information ratio (against snp500) = {information_ratio*100:.3g}%')\n",
    "print(f\"Pareto's alpha (at negative tail)  = {pareto_alpha:.3g}\")"
   ]
  },
  {
   "cell_type": "code",
   "execution_count": 41,
   "metadata": {},
   "outputs": [
    {
     "data": {
      "text/plain": [
       "<matplotlib.legend.Legend at 0x7fac15be70b8>"
      ]
     },
     "execution_count": 41,
     "metadata": {},
     "output_type": "execute_result"
    },
    {
     "data": {
      "image/png": "[encoded data removed]",
      "text/plain": [
       "<Figure size 432x288 with 1 Axes>"
      ]
     },
     "metadata": {
      "needs_background": "light"
     },
     "output_type": "display_data"
    }
   ],
   "source": [
    "plt.plot(portfolio.returns.cumsum(), label='stock embedding')\n",
    "plt.plot(snp500_ret.loc[portfolio.returns.index].cumsum(), label='snp500')\n",
    "plt.legend()"
   ]
  },
  {
   "cell_type": "markdown",
   "metadata": {},
   "source": [
    "# Benchmarking over multiple periods (with different stock embeddings)"
   ]
  },
  {
   "cell_type": "code",
   "execution_count": 42,
   "metadata": {},
   "outputs": [],
   "source": [
    "mu_factory = stemb.Average()  # decays to a half after one year\n",
    "sigma_factory = stemb.StockembCosine()\n",
    "portfolio_opt = stemb.OptRisk(target_return=0.30 / 252)      # target *daily* return\n",
    "\n",
    "sim = stemb.Simulator(mu_factory=mu_factory, sigma_factory=sigma_factory, opt=portfolio_opt)"
   ]
  },
  {
   "cell_type": "code",
   "execution_count": 43,
   "metadata": {},
   "outputs": [
    {
     "name": "stdout",
     "output_type": "stream",
     "text": [
      "------- portfolio 0 (2010-01-04 00:00:00 ~ 2010-12-31 00:00:00) -------\n",
      "<Portfolio(MO=0.15618, DUK=0.13266, AAPL=0.12175, HES=0.11217, EXPE=0.0946, M=0.09413, NFLX=0.08588, NDAQ=0.05551, ETR=0.05345, DISCA=0.0392, HAL=0.0262, ACN=0.01525, HUM=0.01301)>\n",
      "Calculating best minimal value for power law fit\n",
      "Gain                               = 30%\n",
      "Sharpe ratio (risk-free rate=0%)   = 158%\n",
      "Information ratio (against snp500) = 227%\n",
      "Pareto's alpha (at negative tail)  = 3.69\n",
      "------- portfolio 1 (2011-01-03 00:00:00 ~ 2013-12-31 00:00:00) -------\n",
      "<Portfolio(MO=0.18975, DISH=0.15588, AGN=0.13437, NFLX=0.08715, BIIB=0.08166, AMZN=0.07879, AMGN=0.07577, M=0.06143, RTN=0.06014, EXPE=0.03637, HAL=0.02875, AAPL=0.00626, LMT=0.00368)>\n",
      "Calculating best minimal value for power law fit\n",
      "Gain                               = 89.8%\n",
      "Sharpe ratio (risk-free rate=0%)   = 171%\n",
      "Information ratio (against snp500) = 169%\n",
      "Pareto's alpha (at negative tail)  = 3.1\n"
     ]
    }
   ],
   "source": [
    "# stock embedding acquired using data until 20091231\n",
    "stemb_until2009 = pd.read_csv('data/stockemb.20091231.csv')\n",
    "\n",
    "# stock embedding acquired using data until 20101231\n",
    "stemb_until2010 = pd.read_csv('data/stockemb.20101231.csv')\n",
    "\n",
    "\n",
    "# the portfolio is generated at 2009/12/31, and renewed at 2010/12/31\n",
    "portfolios = sim.simulate_multistep(rets, \n",
    "                                    {\n",
    "                                        '2009-12-31': stemb_until2009[rets.columns],\n",
    "                                        '2010-12-31': stemb_until2010[rets.columns],\n",
    "                                    })\n",
    "for i, portfolio in enumerate(portfolios):\n",
    "    ts = portfolio.timestamps\n",
    "    print(f'------- portfolio {i} ({ts[0]} ~ {ts[-1]}) -------')\n",
    "    print(portfolio)\n",
    "\n",
    "    gain = stemb.Gain()(portfolio)\n",
    "    sharpe_ratio = stemb.SharpeRatio()(portfolio, riskfree_rate=0.00)\n",
    "    information_ratio = stemb.InformationRatio()(portfolio, reference=snp500_ret)\n",
    "    pareto_alpha = stemb.ParetoAlpha()(portfolio, whichtail='negative')\n",
    "    print(f'Gain                               = {gain*100:.3g}%')\n",
    "    print(f'Sharpe ratio (risk-free rate=0%)   = {sharpe_ratio*100:.3g}%')\n",
    "    print(f'Information ratio (against snp500) = {information_ratio*100:.3g}%')\n",
    "    print(f\"Pareto's alpha (at negative tail)  = {pareto_alpha:.3g}\")"
   ]
  },
  {
   "cell_type": "code",
   "execution_count": 44,
   "metadata": {},
   "outputs": [
    {
     "data": {
      "text/plain": [
       "<matplotlib.legend.Legend at 0x7fac132b9c88>"
      ]
     },
     "execution_count": 44,
     "metadata": {},
     "output_type": "execute_result"
    },
    {
     "data": {
      "image/png": "[encoded data removed]",
      "text/plain": [
       "<Figure size 432x288 with 1 Axes>"
      ]
     },
     "metadata": {
      "needs_background": "light"
     },
     "output_type": "display_data"
    }
   ],
   "source": [
    "returns = pd.concat([p.returns for p in portfolios])\n",
    "plt.plot(returns.cumsum(), label='stock embedding')\n",
    "plt.plot(snp500_ret.loc[returns.index].cumsum(), label='snp500')\n",
    "plt.legend()"
   ]
  }
 ],
 "metadata": {
  "interpreter": {
   "hash": "9621e2f2cebdba4ace39823b3f1f85b3ed4c6a5c492afa5ccfbc4c05dc78e720"
  },
  "kernelspec": {
   "display_name": "Python 3.6.5 64-bit ('finnews': pyenv)",
   "language": "python",
   "name": "python3"
  },
  "language_info": {
   "codemirror_mode": {
    "name": "ipython",
    "version": 3
   },
   "file_extension": ".py",
   "mimetype": "text/x-python",
   "name": "python",
   "nbconvert_exporter": "python",
   "pygments_lexer": "ipython3",
   "version": "3.6.5"
  },
  "orig_nbformat": 4
 },
 "nbformat": 4,
 "nbformat_minor": 2
}
